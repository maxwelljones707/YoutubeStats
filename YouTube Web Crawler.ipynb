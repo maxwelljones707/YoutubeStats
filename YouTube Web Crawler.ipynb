{
 "cells": [
  {
   "cell_type": "code",
   "execution_count": 2,
   "id": "beeddd32",
   "metadata": {},
   "outputs": [],
   "source": [
    "import re, urllib.request\n",
    "\n",
    "\n",
    "\n",
    "def stats(url):\n",
    "    stream = urllib.request.urlopen(url)\n",
    "    text = stream.read().decode(\"UTF-8\")\n",
    "    numbers = []\n",
    "    views_pattern = r\"([0-9]*[,]*[0-9]*[,]*[0-9]*[,/][0-9]*) views\"\n",
    "    name_pattern = r\"<title>(.*) - YouTube</title>\"\n",
    "\n",
    "\n",
    "    views_regex = re.compile(views_pattern)\n",
    "    name_regex = re.compile(name_pattern)\n",
    "\n",
    "    views_results = views_regex.findall(text)\n",
    "    name_results = name_regex.findall(text)\n",
    "    \n",
    "    print(\"The video \" + \"'\" + str(name_results[0]) + \"' has \" + str(views_results[0]) + \" views.\")"
   ]
  },
  {
   "cell_type": "code",
   "execution_count": 4,
   "id": "6f7e62a9",
   "metadata": {},
   "outputs": [
    {
     "name": "stdout",
     "output_type": "stream",
     "text": [
      "What video would you like to analyze? Please enter the video URL here: https://www.youtube.com/watch?v=6JQCcm8pItM&t=229s\n",
      "The video 'Washington Football Team vs. Falcons Week 4 Highlights | NFL 2021' has 137,900 views.\n"
     ]
    }
   ],
   "source": [
    "stats(input(\"What video would you like to analyze? Please enter the video URL here: \"))"
   ]
  }
 ],
 "metadata": {
  "kernelspec": {
   "display_name": "Python 3 (ipykernel)",
   "language": "python",
   "name": "python3"
  },
  "language_info": {
   "codemirror_mode": {
    "name": "ipython",
    "version": 3
   },
   "file_extension": ".py",
   "mimetype": "text/x-python",
   "name": "python",
   "nbconvert_exporter": "python",
   "pygments_lexer": "ipython3",
   "version": "3.7.4"
  }
 },
 "nbformat": 4,
 "nbformat_minor": 5
}
